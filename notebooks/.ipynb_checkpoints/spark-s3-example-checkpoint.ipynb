{
 "cells": [
  {
   "cell_type": "code",
   "execution_count": 1,
   "metadata": {},
   "outputs": [],
   "source": [
    "# AWS 키와 시크릿 키를 읽어오기\n",
    "from configparser import ConfigParser\n",
    "credentials_config_object = ConfigParser()\n",
    "credentials_config_object.read(\"/home/jovyan/.aws/credentials\")\n",
    "credentials = credentials_config_object[\"default\"]\n",
    "config_object = ConfigParser()\n",
    "config_object.read(\"/home/jovyan/.aws/config\")\n",
    "config = config_object[\"default\"]\n",
    "\n",
    "# Spark Context 객체를 생성\n",
    "from pyspark import SparkContext, SparkConf, SQLContext\n",
    "conf = (\n",
    "    SparkConf()\n",
    "    .set(\"fs.s3n.awsAccessKeyId\", credentials.get('aws_access_key_id'))\n",
    "    .set(\"fs.s3n.awsSecretAccessKey\", credentials.get('aws_secret_access_key'))\n",
    ")\n",
    "sc = SparkContext(conf=conf).getOrCreate()\n",
    "sqlContext = SQLContext(sc)"
   ]
  },
  {
   "cell_type": "code",
   "execution_count": 2,
   "metadata": {},
   "outputs": [
    {
     "name": "stdout",
     "output_type": "stream",
     "text": [
      "+------+--------------+----------------+\n",
      "|  name|favorite_color|favorite_numbers|\n",
      "+------+--------------+----------------+\n",
      "|Alyssa|          null|  [3, 9, 15, 20]|\n",
      "|   Ben|           red|              []|\n",
      "+------+--------------+----------------+\n",
      "\n"
     ]
    }
   ],
   "source": [
    "# 임의로 수집 혹은 생성된 parquet 파일을 읽어와서 출력\n",
    "df = sqlContext.read.parquet(\"s3n://psyoblade-fluentd/staging/parquet/dt=20200426\")\n",
    "df.show()"
   ]
  },
  {
   "cell_type": "code",
   "execution_count": 10,
   "metadata": {},
   "outputs": [],
   "source": [
    "# 데이터 가공 후 json 파일로 저장\n",
    "df.write.mode(\"overwrite\").json(\"s3n://psyoblade-fluentd/store/json/dt=20200426\")"
   ]
  },
  {
   "cell_type": "code",
   "execution_count": null,
   "metadata": {},
   "outputs": [],
   "source": []
  }
 ],
 "metadata": {
  "kernelspec": {
   "display_name": "Python 3",
   "language": "python",
   "name": "python3"
  },
  "language_info": {
   "codemirror_mode": {
    "name": "ipython",
    "version": 3
   },
   "file_extension": ".py",
   "mimetype": "text/x-python",
   "name": "python",
   "nbconvert_exporter": "python",
   "pygments_lexer": "ipython3",
   "version": "3.7.6"
  }
 },
 "nbformat": 4,
 "nbformat_minor": 4
}
